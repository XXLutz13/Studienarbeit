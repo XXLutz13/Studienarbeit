{
 "cells": [
  {
   "cell_type": "code",
   "execution_count": 1,
   "id": "6a79d83b",
   "metadata": {},
   "outputs": [],
   "source": [
    "import pybcapclient.bcapclient as bcapclient\n",
    "import numpy as np\n",
    "import cv2\n",
    "import time"
   ]
  },
  {
   "cell_type": "code",
   "execution_count": 3,
   "id": "7d79f558",
   "metadata": {},
   "outputs": [
    {
     "name": "stdout",
     "output_type": "stream",
     "text": [
      "Robot handler is 4.\n"
     ]
    }
   ],
   "source": [
    "# b-CAP Client \n",
    "client = bcapclient.BCAPClient(host='10.50.12.87', port=5007, timeout=1000)\n",
    "# b-CAP client start\n",
    "client.service_start()\n",
    "# Get Robot Handler\n",
    "robot_handler = client.controller_connect('', 'CaoProv.DENSO.VRC', 'localhost', '')\n",
    "print('Robot handler is {}.'.format(robot_handler))"
   ]
  },
  {
   "cell_type": "code",
   "execution_count": 4,
   "id": "0d71ac2e",
   "metadata": {},
   "outputs": [
    {
     "name": "stdout",
     "output_type": "stream",
     "text": [
      "Camera handler is 5.\n"
     ]
    }
   ],
   "source": [
    "# Get Camera Handler\n",
    "camera_handler = client.controller_connect('N10-W02', 'CaoProv.Canon.N10-W02', '', 'Conn=eth:10.50.12.88, Timeout=3000')\n",
    "print ('Camera handler is {}.'.format(camera_handler))"
   ]
  },
  {
   "cell_type": "code",
   "execution_count": 4,
   "id": "5f0559a8",
   "metadata": {},
   "outputs": [],
   "source": [
    "# OneShot\n",
    "client.controller_execute(camera_handler, 'OneShotFocus', '')"
   ]
  },
  {
   "cell_type": "code",
   "execution_count": 5,
   "id": "e08c6439",
   "metadata": {},
   "outputs": [
    {
     "name": "stdout",
     "output_type": "stream",
     "text": [
      "IMAGE handler is 6.\n"
     ]
    }
   ],
   "source": [
    "# Get Variable ID\n",
    "variable_handler = client.controller_getvariable(camera_handler, 'IMAGE')\n",
    "print('IMAGE handler is {}.'.format(variable_handler))"
   ]
  },
  {
   "cell_type": "code",
   "execution_count": 6,
   "id": "4ba066f5",
   "metadata": {},
   "outputs": [],
   "source": [
    "# Add variable(101)\n",
    "image_buff = client.variable_getvalue(variable_handler)"
   ]
  },
  {
   "cell_type": "code",
   "execution_count": null,
   "id": "b39537d7",
   "metadata": {},
   "outputs": [],
   "source": [
    "# convert image(btyes) to numpy and show it\n",
    "while(True):\n",
    "    image_buff = client.variable_getvalue(variable_handler)\n",
    "    nparr = np.frombuffer(image_buff , dtype=np.uint8)\n",
    "    cv_image = cv2.imdecode(nparr, cv2.IMREAD_COLOR)\n",
    "    #cv2.imwrite(DATA_PATH + '/' + str(datetime.now()) + '.jpg', cv_image)\n",
    "    cv_image = cv2.resize(cv_image, (0,0), fx=0.5, fy=0.5) \n",
    "    cv2.imshow('image',  cv_image)\n",
    "    time.sleep(0.5)\n",
    "    if cv2.waitKey(25) & 0xFF == ord('q'):\n",
    "        break\n",
    "        \n",
    "cv2.destroyAllWindows()\n",
    "\n",
    "    \n"
   ]
  },
  {
   "cell_type": "code",
   "execution_count": null,
   "id": "3580c0d7",
   "metadata": {},
   "outputs": [],
   "source": []
  }
 ],
 "metadata": {
  "kernelspec": {
   "display_name": "Python 3 (ipykernel)",
   "language": "python",
   "name": "python3"
  },
  "language_info": {
   "codemirror_mode": {
    "name": "ipython",
    "version": 3
   },
   "file_extension": ".py",
   "mimetype": "text/x-python",
   "name": "python",
   "nbconvert_exporter": "python",
   "pygments_lexer": "ipython3",
   "version": "3.9.12"
  }
 },
 "nbformat": 4,
 "nbformat_minor": 5
}
