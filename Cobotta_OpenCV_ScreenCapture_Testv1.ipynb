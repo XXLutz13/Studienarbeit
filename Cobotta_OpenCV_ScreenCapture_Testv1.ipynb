{
 "cells": [
  {
   "cell_type": "markdown",
   "id": "b6cfb5bd",
   "metadata": {},
   "source": [
    "### Cobotta ScreenCapture mit Open CV 1. Versuch\n",
    "\n",
    "#### Notwendige Installationen:\n",
    "\n",
    "```\n",
    "conda install -c anaconda pillow\n",
    "```\n",
    "\n",
    "Links:\n",
    "* https://www.codespeedy.com/color-detection-using-opencv-in-python/\n",
    "* https://www.tutorialkart.com/opencv/python/image-edge-detection/#:~:text=Example%201%20%E2%80%93%20OpenCV%20Edge%20Detection%20In%20this,is%20used%20to%20detect%20edges%20for%20the%20image."
   ]
  },
  {
   "cell_type": "code",
   "execution_count": 25,
   "id": "61a3a803",
   "metadata": {},
   "outputs": [],
   "source": [
    "import numpy as np\n",
    "from PIL import ImageGrab\n",
    "import cv2\n",
    "import time"
   ]
  },
  {
   "cell_type": "markdown",
   "id": "5e1e6ee7",
   "metadata": {},
   "source": [
    "```\n",
    "edges = cv2.Canny('/path/to/img', minVal, maxVal, apertureSize, L2gradient)\n",
    "```\n",
    "Parameter\tDescription\n",
    "/path/to/img  (Mandatory)\tFile Path of the image\n",
    "minVal   (Mandatory)\tMinimum intensity gradient\n",
    "maxVal   (Mandatory)\tMaximum intensity gradient\n",
    "apertureSize (Optional)\t\n",
    "L2gradient (Optional) (Default Value : false)\tIf true, Canny() uses a much more computationally expensive equation to detect edges, which provides more accuracy at the cost of resources."
   ]
  },
  {
   "cell_type": "code",
   "execution_count": 23,
   "id": "d22b4b21",
   "metadata": {},
   "outputs": [],
   "source": [
    "# edge detection\n",
    "def screen_record(): \n",
    "    while True:\n",
    "        # 800x600 windowed mode\n",
    "        printscreen_pil =  ImageGrab.grab(bbox=(14,56,935,575))\n",
    "        printscreen_numpy =   np.array(printscreen_pil.getdata(),dtype='uint8')\\\n",
    "        .reshape((printscreen_pil.size[1],printscreen_pil.size[0],3))\n",
    "        edges = cv2.Canny(printscreen_numpy,100,200)\n",
    "        #cv2.imshow('window',cv2.cvtColor(printscreen_numpy, cv2.COLOR_BGR2RGB))\n",
    "        cv2.imshow('Edge_detection',edges)\n",
    "        cv2.moveWindow(\"Edge_detection\", 940,0);\n",
    "        time.sleep(1)\n",
    "        if cv2.waitKey(25) & 0xFF == ord('q'):\n",
    "            cv2.destroyAllWindows()\n",
    "            break"
   ]
  },
  {
   "cell_type": "markdown",
   "id": "a25e1956",
   "metadata": {},
   "source": [
    "define range of blue color in HSV\n",
    "    lower_blue = np.array([110,50,50])\n",
    "    upper_blue = np.array([130,255,255])"
   ]
  },
  {
   "cell_type": "code",
   "execution_count": 38,
   "id": "8c8f1901",
   "metadata": {},
   "outputs": [],
   "source": [
    "# color detection\n",
    "ranges = {\n",
    "    \"red\": ([0, 0, 128], [60, 60, 255]),  # B G R\n",
    "    \"yellow\": ([0, 190, 210], [128, 255, 255]),  # B G R\n",
    "    # many more\n",
    "}\n",
    "\n",
    "def screen_record(): \n",
    "    while True:\n",
    "        # 800x600 windowed mode\n",
    "        printscreen_pil =  ImageGrab.grab(bbox=(14,56,935,575))\n",
    "        printscreen_numpy =   np.array(printscreen_pil.getdata(),dtype='uint8')\\\n",
    "        .reshape((printscreen_pil.size[1],printscreen_pil.size[0],3))\n",
    "        hsv = cv2.cvtColor(printscreen_numpy, cv2.COLOR_BGR2HSV)\n",
    "        #lowerRange = np.array(ranges[1][0], dtype=\"uint8\")\n",
    "        #upperRange = np.array(ranges[1][1], dtype=\"uint8\")\n",
    "        lower_range = np.array([110,50,50])\n",
    "        upper_range = np.array([130,255,255])\n",
    "        mask = cv2.inRange(hsv, lower_range, upper_range)\n",
    "        #cv2.imshow('window',cv2.cvtColor(printscreen_numpy, cv2.COLOR_BGR2RGB))\n",
    "        cv2.imshow('Input',printscreen_numpy)\n",
    "        cv2.moveWindow(\"Input\", 940,0);\n",
    "        time.sleep(0.5)\n",
    "        cv2.imshow('Color_detection',mask)\n",
    "        cv2.moveWindow(\"Color_detection\", 940,600);\n",
    "        time.sleep(0.5)\n",
    "        if cv2.waitKey(25) & 0xFF == ord('q'):\n",
    "            cv2.destroyAllWindows()\n",
    "            break"
   ]
  },
  {
   "cell_type": "code",
   "execution_count": 39,
   "id": "456945f1",
   "metadata": {},
   "outputs": [],
   "source": [
    "screen_record()"
   ]
  },
  {
   "cell_type": "code",
   "execution_count": null,
   "id": "b037b4fa",
   "metadata": {},
   "outputs": [],
   "source": []
  }
 ],
 "metadata": {
  "kernelspec": {
   "display_name": "Python 3 (ipykernel)",
   "language": "python",
   "name": "python3"
  },
  "language_info": {
   "codemirror_mode": {
    "name": "ipython",
    "version": 3
   },
   "file_extension": ".py",
   "mimetype": "text/x-python",
   "name": "python",
   "nbconvert_exporter": "python",
   "pygments_lexer": "ipython3",
   "version": "3.9.12"
  }
 },
 "nbformat": 4,
 "nbformat_minor": 5
}
